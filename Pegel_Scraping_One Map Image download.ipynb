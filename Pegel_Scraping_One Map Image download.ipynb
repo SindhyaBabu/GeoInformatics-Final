{
 "cells": [
  {
   "cell_type": "code",
   "execution_count": 45,
   "id": "542bad90-d7d9-4b0e-a127-7523b1ef99e3",
   "metadata": {},
   "outputs": [],
   "source": [
    "import requests\n",
    "from bs4 import BeautifulSoup\n",
    "import pandas as pd\n",
    "import re\n",
    "import numpy as np\n",
    "from urllib.request import urlopen"
   ]
  },
  {
   "cell_type": "code",
   "execution_count": null,
   "id": "fa16e501-c18a-4c37-aaae-c6bbb4a1f597",
   "metadata": {
    "tags": []
   },
   "outputs": [],
   "source": [
    "### With this code, we can scrape the map and store in a folder created with name 'images'"
   ]
  },
  {
   "cell_type": "code",
   "execution_count": 46,
   "id": "7456b3e9-ff0a-487b-a689-d6289f2c0c4c",
   "metadata": {},
   "outputs": [],
   "source": [
    "url = requests.get('https://howis.eglv.de/pegel/html/stammdaten_html/MO_StammdatenPegel.php?PIDVal=5').text\n",
    "soup = BeautifulSoup(url, 'lxml')"
   ]
  },
  {
   "cell_type": "code",
   "execution_count": 47,
   "id": "4b7ee27c-2559-419d-b63e-2b30f7650d9d",
   "metadata": {},
   "outputs": [],
   "source": [
    "Map_tags = soup.find('div', {'id':'mapcontainer'})"
   ]
  },
  {
   "cell_type": "code",
   "execution_count": 48,
   "id": "2f8726f0-e33f-4fa1-bf06-bde60db80c3f",
   "metadata": {},
   "outputs": [],
   "source": [
    "Map_tags = Map_tags.find('img')"
   ]
  },
  {
   "cell_type": "code",
   "execution_count": 49,
   "id": "e25479b2-0b1c-40ad-b250-5dbf882772cd",
   "metadata": {},
   "outputs": [],
   "source": [
    "imagelinks = []\n",
    "for tags in Map_tags:\n",
    "    imagelinks.append(Map_tags['src'])"
   ]
  },
  {
   "cell_type": "code",
   "execution_count": 50,
   "id": "45f27d7c-d130-4304-bf0f-3dda20786801",
   "metadata": {},
   "outputs": [],
   "source": [
    "ext_url = Map_tags['src']"
   ]
  },
  {
   "cell_type": "code",
   "execution_count": 51,
   "id": "3d64d261-b430-4432-8314-ebdeddf41393",
   "metadata": {},
   "outputs": [
    {
     "data": {
      "text/plain": [
       "'../../images/stationpics/maps/11038_stadtplan.gif'"
      ]
     },
     "execution_count": 51,
     "metadata": {},
     "output_type": "execute_result"
    }
   ],
   "source": [
    "ext_url"
   ]
  },
  {
   "cell_type": "code",
   "execution_count": 52,
   "id": "ca89e2d8-25a0-423b-a1b9-af36dce297d4",
   "metadata": {},
   "outputs": [],
   "source": [
    "ext_url = ext_url[5:]"
   ]
  },
  {
   "cell_type": "code",
   "execution_count": 53,
   "id": "48cdc678-24f5-4a8b-b075-3746c61519f8",
   "metadata": {},
   "outputs": [],
   "source": [
    "base_url = \"https://howis.eglv.de/pegel\""
   ]
  },
  {
   "cell_type": "code",
   "execution_count": 54,
   "id": "5cb7258f-24fd-4ccf-9d89-07f36b56bf21",
   "metadata": {},
   "outputs": [],
   "source": [
    "full_url = base_url + ext_url"
   ]
  },
  {
   "cell_type": "code",
   "execution_count": 55,
   "id": "786a8dc7-6dd0-4c3b-a0dc-c9780bbdca4c",
   "metadata": {},
   "outputs": [
    {
     "data": {
      "text/plain": [
       "'https://howis.eglv.de/pegel/images/stationpics/maps/11038_stadtplan.gif'"
      ]
     },
     "execution_count": 55,
     "metadata": {},
     "output_type": "execute_result"
    }
   ],
   "source": [
    "full_url"
   ]
  },
  {
   "cell_type": "code",
   "execution_count": 58,
   "id": "8ff3315a-e066-428e-8215-9953ded2b8b7",
   "metadata": {},
   "outputs": [],
   "source": [
    "response = requests.get(full_url, stream=True)"
   ]
  },
  {
   "cell_type": "code",
   "execution_count": 59,
   "id": "d310306a-8261-4789-bb74-a5aad7ea6b2e",
   "metadata": {},
   "outputs": [
    {
     "data": {
      "text/plain": [
       "<Response [200]>"
      ]
     },
     "execution_count": 59,
     "metadata": {},
     "output_type": "execute_result"
    }
   ],
   "source": [
    "response"
   ]
  },
  {
   "cell_type": "code",
   "execution_count": 62,
   "id": "15da73f5-d3ba-4aaf-b036-d86d826259ce",
   "metadata": {},
   "outputs": [],
   "source": [
    "\n",
    "with open(\"Pegel_Station1.jpg\", \"wb\") as f:\n",
    "    f.write(response.content)\n",
    "    f.close()"
   ]
  },
  {
   "cell_type": "code",
   "execution_count": null,
   "id": "e47368ad-c071-4f2a-b83e-b686fbf4bf71",
   "metadata": {},
   "outputs": [],
   "source": [
    "#!pip install pillow"
   ]
  },
  {
   "cell_type": "code",
   "execution_count": null,
   "id": "d79f99b5-cf1e-4dc1-9a37-216146490cae",
   "metadata": {},
   "outputs": [],
   "source": [
    "if response.status_code:\n",
    "    fp = open('greenland_01a.png', 'wb')\n",
    "    fp.write(response.content)\n",
    "    fp.close()"
   ]
  }
 ],
 "metadata": {
  "kernelspec": {
   "display_name": "Python 3",
   "language": "python",
   "name": "python3"
  },
  "language_info": {
   "codemirror_mode": {
    "name": "ipython",
    "version": 3
   },
   "file_extension": ".py",
   "mimetype": "text/x-python",
   "name": "python",
   "nbconvert_exporter": "python",
   "pygments_lexer": "ipython3",
   "version": "3.8.8"
  }
 },
 "nbformat": 4,
 "nbformat_minor": 5
}
