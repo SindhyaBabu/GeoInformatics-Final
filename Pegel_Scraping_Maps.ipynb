{
 "cells": [
  {
   "cell_type": "markdown",
   "id": "f2f79ddc-4628-488e-af33-e2f9d43a38fe",
   "metadata": {},
   "source": [
    "### This python code scrapes map image from given url. this was created as a trial. Please refer to the Pegel_scraping_Images_all.ipynb for scraping all images"
   ]
  },
  {
   "cell_type": "code",
   "execution_count": 16,
   "id": "542bad90-d7d9-4b0e-a127-7523b1ef99e3",
   "metadata": {},
   "outputs": [],
   "source": [
    "# Import necessary packages \n",
    "import requests\n",
    "from bs4 import BeautifulSoup\n",
    "import pandas as pd\n",
    "import re\n",
    "import numpy as np\n",
    "from urllib.request import urlopen"
   ]
  },
  {
   "cell_type": "markdown",
   "id": "c498b223-6ff0-47f5-a798-ecbb77702950",
   "metadata": {
    "tags": []
   },
   "source": [
    "### With this code, we can scrape the map and store in local directory"
   ]
  },
  {
   "cell_type": "code",
   "execution_count": 2,
   "id": "7456b3e9-ff0a-487b-a689-d6289f2c0c4c",
   "metadata": {},
   "outputs": [],
   "source": [
    "url = requests.get('https://howis.eglv.de/pegel/html/stammdaten_html/MO_StammdatenPegel.php?PIDVal=55').text\n",
    "soup = BeautifulSoup(url, 'lxml') "
   ]
  },
  {
   "cell_type": "code",
   "execution_count": 3,
   "id": "4b7ee27c-2559-419d-b63e-2b30f7650d9d",
   "metadata": {},
   "outputs": [],
   "source": [
    "Map_tags = soup.find('div', {'id':'mapcontainer'}) # tags containg our desired map "
   ]
  },
  {
   "cell_type": "code",
   "execution_count": 4,
   "id": "2f8726f0-e33f-4fa1-bf06-bde60db80c3f",
   "metadata": {},
   "outputs": [],
   "source": [
    "Map_tags = Map_tags.find('img')  # using find to look for tag 'img'"
   ]
  },
  {
   "cell_type": "code",
   "execution_count": 5,
   "id": "e25479b2-0b1c-40ad-b250-5dbf882772cd",
   "metadata": {},
   "outputs": [],
   "source": [
    "imagelinks = []\n",
    "for tags in Map_tags:\n",
    "    imagelinks.append(Map_tags['src'])"
   ]
  },
  {
   "attachments": {
    "d03d78ba-f627-4b62-b01a-690a014e0fac.png": {
     "image/png": "[encoded data removed]"
    }
   },
   "cell_type": "markdown",
   "id": "a0efef8e-28a6-4f37-be21-dc5b6d1025ee",
   "metadata": {},
   "source": [
    "![image.png](attachment:d03d78ba-f627-4b62-b01a-690a014e0fac.png)"
   ]
  },
  {
   "cell_type": "code",
   "execution_count": 6,
   "id": "45f27d7c-d130-4304-bf0f-3dda20786801",
   "metadata": {},
   "outputs": [],
   "source": [
    "ext_url = Map_tags['src'] # images contained as .gif like inside src "
   ]
  },
  {
   "cell_type": "code",
   "execution_count": 7,
   "id": "3d64d261-b430-4432-8314-ebdeddf41393",
   "metadata": {},
   "outputs": [
    {
     "data": {
      "text/plain": [
       "'../../images/stationpics/maps/30097_stadtplan.gif'"
      ]
     },
     "execution_count": 7,
     "metadata": {},
     "output_type": "execute_result"
    }
   ],
   "source": [
    "ext_url # getting the url extension "
   ]
  },
  {
   "cell_type": "code",
   "execution_count": 8,
   "id": "ca89e2d8-25a0-423b-a1b9-af36dce297d4",
   "metadata": {},
   "outputs": [],
   "source": [
    "ext_url = ext_url[5:]   # deleting first 5 characters to extract the url without ./.."
   ]
  },
  {
   "cell_type": "code",
   "execution_count": 9,
   "id": "48cdc678-24f5-4a8b-b075-3746c61519f8",
   "metadata": {},
   "outputs": [],
   "source": [
    "base_url = \"https://howis.eglv.de/pegel\"   # storing the base url "
   ]
  },
  {
   "cell_type": "code",
   "execution_count": 10,
   "id": "5cb7258f-24fd-4ccf-9d89-07f36b56bf21",
   "metadata": {},
   "outputs": [],
   "source": [
    "full_url = base_url + ext_url    "
   ]
  },
  {
   "cell_type": "code",
   "execution_count": 11,
   "id": "786a8dc7-6dd0-4c3b-a0dc-c9780bbdca4c",
   "metadata": {},
   "outputs": [
    {
     "data": {
      "text/plain": [
       "'https://howis.eglv.de/pegel/images/stationpics/maps/30097_stadtplan.gif'"
      ]
     },
     "execution_count": 11,
     "metadata": {},
     "output_type": "execute_result"
    }
   ],
   "source": [
    "full_url"
   ]
  },
  {
   "cell_type": "code",
   "execution_count": 12,
   "id": "8ff3315a-e066-428e-8215-9953ded2b8b7",
   "metadata": {},
   "outputs": [],
   "source": [
    "response = requests.get(full_url, stream=True)"
   ]
  },
  {
   "cell_type": "code",
   "execution_count": 13,
   "id": "d310306a-8261-4789-bb74-a5aad7ea6b2e",
   "metadata": {},
   "outputs": [
    {
     "data": {
      "text/plain": [
       "<Response [200]>"
      ]
     },
     "execution_count": 13,
     "metadata": {},
     "output_type": "execute_result"
    }
   ],
   "source": [
    "response   # checking for response 200 m ie succesful message "
   ]
  },
  {
   "cell_type": "code",
   "execution_count": 14,
   "id": "e47368ad-c071-4f2a-b83e-b686fbf4bf71",
   "metadata": {},
   "outputs": [],
   "source": [
    "#!pip install pillow"
   ]
  },
  {
   "cell_type": "code",
   "execution_count": 17,
   "id": "9f6a0c61-357f-4727-9217-77b44960cdd1",
   "metadata": {},
   "outputs": [],
   "source": [
    "\n",
    "with open(\"Pegel_Station1.jpg\", \"wb\") as f:\n",
    "    f.write(response.content)\n",
    "    f.close()   # storing images under file name Pegel_Station1.jpg. Image will be saved in the current directory\""
   ]
  },
  {
   "cell_type": "code",
   "execution_count": null,
   "id": "63da3aab-8f5f-4c67-b9ad-80e419d35e16",
   "metadata": {},
   "outputs": [],
   "source": []
  }
 ],
 "metadata": {
  "kernelspec": {
   "display_name": "Python 3",
   "language": "python",
   "name": "python3"
  },
  "language_info": {
   "codemirror_mode": {
    "name": "ipython",
    "version": 3
   },
   "file_extension": ".py",
   "mimetype": "text/x-python",
   "name": "python",
   "nbconvert_exporter": "python",
   "pygments_lexer": "ipython3",
   "version": "3.8.8"
  }
 },
 "nbformat": 4,
 "nbformat_minor": 5
}
