{
 "cells": [
  {
   "cell_type": "markdown",
   "id": "9d35e8dc",
   "metadata": {},
   "source": [
    "# Scraping all station's images goig through PID Values "
   ]
  },
  {
   "cell_type": "code",
   "execution_count": 46,
   "id": "f48249d7",
   "metadata": {},
   "outputs": [],
   "source": [
    "import requests\n",
    "from bs4 import BeautifulSoup\n",
    "import io\n",
    "\n",
    "# Loop through the PIDVals and scrape the images\n",
    "for pidval in range(1, 101):\n",
    "    # Construct the URL for the current station\n",
    "    url = f'https://howis.eglv.de/pegel/html/stammdaten_html/MO_StammdatenPegel.php?PIDVal={pidval}'\n",
    "\n",
    "    # Get the HTML content of the page\n",
    "    response = requests.get(url)\n",
    "    soup = BeautifulSoup(response.content, 'lxml')\n",
    "\n",
    "    # Find the image tag\n",
    "    map_tags = soup.find('div', {'id': 'mapcontainer'})\n",
    "    if map_tags is not None:\n",
    "        map_tags = map_tags.find('img')\n",
    "        if map_tags is not None:\n",
    "            ext_url = map_tags['src'][5:]\n",
    "            base_url = 'https://howis.eglv.de/pegel'\n",
    "            full_url = base_url + ext_url\n",
    "\n",
    "            # Download and save the image\n",
    "            response = requests.get(full_url, stream=True)\n",
    "            filename = f'/home/kiara/Pictures/Pegel_images/Pegel_Station{pidval}.jpg'\n",
    "            with open(filename, 'wb') as f:\n",
    "                f.write(response.content)\n",
    "\n",
    "            # Open and show the image\n",
    "            with open(filename, 'rb') as f:\n",
    "                img_data = f.read()\n",
    "            from PIL import Image\n",
    "            img = Image.open(io.BytesIO(img_data))\n",
    "            img.show()\n"
   ]
  },
  {
   "cell_type": "markdown",
   "id": "3d028dc2",
   "metadata": {},
   "source": [
    "All images will be saved in Pegel_images folder"
   ]
  },
  {
   "cell_type": "code",
   "execution_count": null,
   "id": "97fd2bc3",
   "metadata": {},
   "outputs": [],
   "source": []
  }
 ],
 "metadata": {
  "kernelspec": {
   "display_name": "Python 3 (ipykernel)",
   "language": "python",
   "name": "python3"
  },
  "language_info": {
   "codemirror_mode": {
    "name": "ipython",
    "version": 3
   },
   "file_extension": ".py",
   "mimetype": "text/x-python",
   "name": "python",
   "nbconvert_exporter": "python",
   "pygments_lexer": "ipython3",
   "version": "3.11.0"
  }
 },
 "nbformat": 4,
 "nbformat_minor": 5
}
